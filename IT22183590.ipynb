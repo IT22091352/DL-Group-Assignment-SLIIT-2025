{
 "cells": [
  {
   "cell_type": "code",
   "execution_count": 1,
   "id": "146e03fa-fcac-4ca8-ad10-117482ecab08",
   "metadata": {},
   "outputs": [
    {
     "name": "stdout",
     "output_type": "stream",
     "text": [
      "Libraries loaded successfully. Preparing data for 1D CNN.\n"
     ]
    }
   ],
   "source": [
    "# --- 1. SETUP AND IMPORTS ---\n",
    "# Member 3: Implementation of a 1D Convolutional Neural Network (1D-CNN)\n",
    "# This model explores using localized feature extraction for structured tabular data.\n",
    "\n",
    "import pandas as pd\n",
    "import numpy as np\n",
    "import tensorflow as tf\n",
    "from tensorflow import keras\n",
    "from keras.models import Sequential\n",
    "from keras.layers import Dense, Conv1D, MaxPooling1D, Flatten, Dropout, BatchNormalization\n",
    "from keras.callbacks import EarlyStopping\n",
    "from sklearn.model_selection import train_test_split\n",
    "from sklearn.preprocessing import StandardScaler, LabelEncoder\n",
    "from sklearn.metrics import confusion_matrix, classification_report\n",
    "import matplotlib.pyplot as plt\n",
    "import seaborn as sns\n",
    "import warnings\n",
    "\n",
    "# Suppress the FutureWarnings related to pandas downcasting for a clean output\n",
    "warnings.filterwarnings(\"ignore\", category=FutureWarning) \n",
    "\n",
    "# Ensure reproducibility\n",
    "np.random.seed(42)\n",
    "tf.random.set_seed(42)\n",
    "\n",
    "print(\"Libraries loaded successfully. Preparing data for 1D CNN.\")"
   ]
  },
  {
   "cell_type": "code",
   "execution_count": 2,
   "id": "f9f9dbeb-8a49-44c9-9e4e-ce9d688a9ce8",
   "metadata": {},
   "outputs": [
    {
     "name": "stdout",
     "output_type": "stream",
     "text": [
      "Dataset shape: (569, 32)\n"
     ]
    }
   ],
   "source": [
    "# --- 2. DATA LOADING AND INITIAL CLEANING ---\n",
    "\n",
    "try:\n",
    "    data = pd.read_csv('Cancer_Data.csv') # [1]\n",
    "    \n",
    "    # Check for the common redundant column (if present)\n",
    "    if 'Unnamed: 32' in data.columns:\n",
    "        data = data.drop(['Unnamed: 32'], axis=1) \n",
    "        \n",
    "    print(f\"Dataset shape: {data.shape}\")\n",
    "except FileNotFoundError:\n",
    "    print(\"Error: 'Cancer_Data.csv' not found. Please ensure the file is in the correct directory.\")\n",
    "    exit()\n",
    "\n",
    "# Identify Features (X) and Target (Y)\n",
    "X = data.drop(['id', 'diagnosis'], axis=1) # [1]\n",
    "Y = data['diagnosis']\n"
   ]
  },
  {
   "cell_type": "code",
   "execution_count": 3,
   "id": "3f84d8f7-1e44-4d77-9998-fb06203f6fb8",
   "metadata": {},
   "outputs": [
    {
     "name": "stdout",
     "output_type": "stream",
     "text": [
      "\n",
      "--- EDA: Target Class Distribution ---\n"
     ]
    }
   ],
   "source": [
    "# --- 3. EXPLORATORY DATA ANALYSIS (EDA) AND VISUALIZATIONS ---\n",
    "\n",
    "# 3.1. Target Class Distribution\n",
    "print(\"\\n--- EDA: Target Class Distribution ---\")\n",
    "# sns.countplot(x='diagnosis', data=data, palette='viridis')\n",
    "# plt.title('Distribution of Diagnosis (Malignant vs. Benign)')\n",
    "# plt.show() # Code hidden for brevity in output, but included in notebook flow\n"
   ]
  },
  {
   "cell_type": "code",
   "execution_count": 4,
   "id": "da8bf877-8e9a-4e18-ba1e-c7a2cf13d241",
   "metadata": {},
   "outputs": [],
   "source": [
    "# 3.2. Feature Correlation Heatmap\n",
    "data_corr = data.copy()\n",
    "data_corr['diagnosis'] = data_corr['diagnosis'].replace({'M': 1, 'B': 0}).astype(int) \n",
    "mean_features = ['diagnosis'] + [col for col in data_corr.columns if 'mean' in col]\n",
    "corr_matrix = data_corr[mean_features].corr() "
   ]
  },
  {
   "cell_type": "code",
   "execution_count": 5,
   "id": "0808adeb-1f6e-437c-8716-04a73c00a4b8",
   "metadata": {},
   "outputs": [],
   "source": [
    "# plt.figure(figsize=(10, 8))\n",
    "# sns.heatmap(corr_matrix, annot=True, fmt='.1f', cmap='coolwarm', \n",
    "#             linewidths=.5, linecolor='black')\n",
    "# plt.title('Correlation Heatmap of Mean Features')\n",
    "# plt.show() # Code hidden for brevity in output"
   ]
  },
  {
   "cell_type": "code",
   "execution_count": 6,
   "id": "7bb65115-5d1b-46f4-944f-8a008d8929a3",
   "metadata": {},
   "outputs": [],
   "source": [
    "# --- 4. DATA PREPARATION (SPLIT FIRST) ---\n",
    "\n",
    "# 4.1. Target Encoding \n",
    "encoder = LabelEncoder()\n",
    "encoded_Y = encoder.fit_transform(Y) # 'M' -> 1, 'B' -> 0 [2]\n",
    "\n",
    "TEST_SIZE_FINAL = 0.15 \n",
    "VAL_SIZE_RATIO = 0.1764 # (~15% of total samples for validation)\n",
    "\n",
    "# Split 1: Training Pool (85%) and Test Set (15%), stratified\n",
    "X_train_full, X_test, Y_train_full, Y_test = train_test_split(\n",
    "    X.values, encoded_Y, test_size=TEST_SIZE_FINAL, random_state=42, stratify=encoded_Y\n",
    ")\n",
    "\n",
    "# Split 2: Training Set (70%) and Validation Set (15%)\n",
    "X_train, X_val, Y_train, Y_val = train_test_split(\n",
    "    X_train_full, Y_train_full, test_size=VAL_SIZE_RATIO, random_state=42, stratify=Y_train_full\n",
    ")\n"
   ]
  },
  {
   "cell_type": "code",
   "execution_count": 7,
   "id": "b44deacc-30b3-48eb-a47e-89c4fc2f8255",
   "metadata": {},
   "outputs": [
    {
     "name": "stdout",
     "output_type": "stream",
     "text": [
      "\n",
      "Data successfully scaled and reshaped.\n",
      "1D CNN Input Shape: (30, 1)\n"
     ]
    }
   ],
   "source": [
    "# --- 5. DATA PREPROCESSING (SCALE AND RESHAPE) (10% Grading Weight) ---\n",
    "\n",
    "scaler = StandardScaler()\n",
    "\n",
    "# 5.1. Fit ONLY on Training Data\n",
    "X_train_scaled = scaler.fit_transform(X_train) # [3]\n",
    "\n",
    "# 5.2. Transform Validation and Test Data\n",
    "X_val_scaled = scaler.transform(X_val)       \n",
    "X_test_scaled = scaler.transform(X_test)     \n",
    "\n",
    "# 5.3. CRITICAL STEP: Reshape 2D data (N, 30) into 3D (N, 30, 1) for Conv1D [4]\n",
    "X_train_cnn = np.expand_dims(X_train_scaled, axis=2)\n",
    "X_val_cnn = np.expand_dims(X_val_scaled, axis=2)\n",
    "X_test_cnn = np.expand_dims(X_test_scaled, axis=2)\n",
    "\n",
    "input_shape_cnn = X_train_cnn.shape[1:] # Should be (30, 1)\n",
    "\n",
    "print(f\"\\nData successfully scaled and reshaped.\")\n",
    "print(f\"1D CNN Input Shape: {input_shape_cnn}\")\n"
   ]
  },
  {
   "cell_type": "code",
   "execution_count": 10,
   "id": "31562efe-a2ad-4f7a-8f1a-6c80e0d8f720",
   "metadata": {},
   "outputs": [
    {
     "name": "stdout",
     "output_type": "stream",
     "text": [
      "\n",
      "Model Architecture (1D-CNN - Local Feature Extractor):\n"
     ]
    },
    {
     "name": "stderr",
     "output_type": "stream",
     "text": [
      "C:\\Users\\ASUS\\anaconda3\\Lib\\site-packages\\keras\\src\\layers\\normalization\\batch_normalization.py:142: UserWarning: Do not pass an `input_shape`/`input_dim` argument to a layer. When using Sequential models, prefer using an `Input(shape)` object as the first layer in the model instead.\n",
      "  super().__init__(**kwargs)\n"
     ]
    },
    {
     "data": {
      "text/html": [
       "<pre style=\"white-space:pre;overflow-x:auto;line-height:normal;font-family:Menlo,'DejaVu Sans Mono',consolas,'Courier New',monospace\"><span style=\"font-weight: bold\">Model: \"1D_CNN_M3\"</span>\n",
       "</pre>\n"
      ],
      "text/plain": [
       "\u001b[1mModel: \"1D_CNN_M3\"\u001b[0m\n"
      ]
     },
     "metadata": {},
     "output_type": "display_data"
    },
    {
     "data": {
      "text/html": [
       "<pre style=\"white-space:pre;overflow-x:auto;line-height:normal;font-family:Menlo,'DejaVu Sans Mono',consolas,'Courier New',monospace\">┏━━━━━━━━━━━━━━━━━━━━━━━━━━━━━━━━━━━━━━┳━━━━━━━━━━━━━━━━━━━━━━━━━━━━━┳━━━━━━━━━━━━━━━━━┓\n",
       "┃<span style=\"font-weight: bold\"> Layer (type)                         </span>┃<span style=\"font-weight: bold\"> Output Shape                </span>┃<span style=\"font-weight: bold\">         Param # </span>┃\n",
       "┡━━━━━━━━━━━━━━━━━━━━━━━━━━━━━━━━━━━━━━╇━━━━━━━━━━━━━━━━━━━━━━━━━━━━━╇━━━━━━━━━━━━━━━━━┩\n",
       "│ BN_1 (<span style=\"color: #0087ff; text-decoration-color: #0087ff\">BatchNormalization</span>)            │ (<span style=\"color: #00d7ff; text-decoration-color: #00d7ff\">None</span>, <span style=\"color: #00af00; text-decoration-color: #00af00\">30</span>, <span style=\"color: #00af00; text-decoration-color: #00af00\">1</span>)               │               <span style=\"color: #00af00; text-decoration-color: #00af00\">4</span> │\n",
       "├──────────────────────────────────────┼─────────────────────────────┼─────────────────┤\n",
       "│ MaxPool_1 (<span style=\"color: #0087ff; text-decoration-color: #0087ff\">MaxPooling1D</span>)             │ (<span style=\"color: #00d7ff; text-decoration-color: #00d7ff\">None</span>, <span style=\"color: #00af00; text-decoration-color: #00af00\">15</span>, <span style=\"color: #00af00; text-decoration-color: #00af00\">1</span>)               │               <span style=\"color: #00af00; text-decoration-color: #00af00\">0</span> │\n",
       "├──────────────────────────────────────┼─────────────────────────────┼─────────────────┤\n",
       "│ Dropout_1 (<span style=\"color: #0087ff; text-decoration-color: #0087ff\">Dropout</span>)                  │ (<span style=\"color: #00d7ff; text-decoration-color: #00d7ff\">None</span>, <span style=\"color: #00af00; text-decoration-color: #00af00\">15</span>, <span style=\"color: #00af00; text-decoration-color: #00af00\">1</span>)               │               <span style=\"color: #00af00; text-decoration-color: #00af00\">0</span> │\n",
       "├──────────────────────────────────────┼─────────────────────────────┼─────────────────┤\n",
       "│ Conv1D_2 (<span style=\"color: #0087ff; text-decoration-color: #0087ff\">Conv1D</span>)                    │ (<span style=\"color: #00d7ff; text-decoration-color: #00d7ff\">None</span>, <span style=\"color: #00af00; text-decoration-color: #00af00\">13</span>, <span style=\"color: #00af00; text-decoration-color: #00af00\">32</span>)              │             <span style=\"color: #00af00; text-decoration-color: #00af00\">128</span> │\n",
       "├──────────────────────────────────────┼─────────────────────────────┼─────────────────┤\n",
       "│ BN_2 (<span style=\"color: #0087ff; text-decoration-color: #0087ff\">BatchNormalization</span>)            │ (<span style=\"color: #00d7ff; text-decoration-color: #00d7ff\">None</span>, <span style=\"color: #00af00; text-decoration-color: #00af00\">13</span>, <span style=\"color: #00af00; text-decoration-color: #00af00\">32</span>)              │             <span style=\"color: #00af00; text-decoration-color: #00af00\">128</span> │\n",
       "├──────────────────────────────────────┼─────────────────────────────┼─────────────────┤\n",
       "│ Flatten_Features (<span style=\"color: #0087ff; text-decoration-color: #0087ff\">Flatten</span>)           │ (<span style=\"color: #00d7ff; text-decoration-color: #00d7ff\">None</span>, <span style=\"color: #00af00; text-decoration-color: #00af00\">416</span>)                 │               <span style=\"color: #00af00; text-decoration-color: #00af00\">0</span> │\n",
       "├──────────────────────────────────────┼─────────────────────────────┼─────────────────┤\n",
       "│ Dense_Classifier (<span style=\"color: #0087ff; text-decoration-color: #0087ff\">Dense</span>)             │ (<span style=\"color: #00d7ff; text-decoration-color: #00d7ff\">None</span>, <span style=\"color: #00af00; text-decoration-color: #00af00\">32</span>)                  │          <span style=\"color: #00af00; text-decoration-color: #00af00\">13,344</span> │\n",
       "├──────────────────────────────────────┼─────────────────────────────┼─────────────────┤\n",
       "│ Dropout_2 (<span style=\"color: #0087ff; text-decoration-color: #0087ff\">Dropout</span>)                  │ (<span style=\"color: #00d7ff; text-decoration-color: #00d7ff\">None</span>, <span style=\"color: #00af00; text-decoration-color: #00af00\">32</span>)                  │               <span style=\"color: #00af00; text-decoration-color: #00af00\">0</span> │\n",
       "├──────────────────────────────────────┼─────────────────────────────┼─────────────────┤\n",
       "│ Output_Layer (<span style=\"color: #0087ff; text-decoration-color: #0087ff\">Dense</span>)                 │ (<span style=\"color: #00d7ff; text-decoration-color: #00d7ff\">None</span>, <span style=\"color: #00af00; text-decoration-color: #00af00\">1</span>)                   │              <span style=\"color: #00af00; text-decoration-color: #00af00\">33</span> │\n",
       "└──────────────────────────────────────┴─────────────────────────────┴─────────────────┘\n",
       "</pre>\n"
      ],
      "text/plain": [
       "┏━━━━━━━━━━━━━━━━━━━━━━━━━━━━━━━━━━━━━━┳━━━━━━━━━━━━━━━━━━━━━━━━━━━━━┳━━━━━━━━━━━━━━━━━┓\n",
       "┃\u001b[1m \u001b[0m\u001b[1mLayer (type)                        \u001b[0m\u001b[1m \u001b[0m┃\u001b[1m \u001b[0m\u001b[1mOutput Shape               \u001b[0m\u001b[1m \u001b[0m┃\u001b[1m \u001b[0m\u001b[1m        Param #\u001b[0m\u001b[1m \u001b[0m┃\n",
       "┡━━━━━━━━━━━━━━━━━━━━━━━━━━━━━━━━━━━━━━╇━━━━━━━━━━━━━━━━━━━━━━━━━━━━━╇━━━━━━━━━━━━━━━━━┩\n",
       "│ BN_1 (\u001b[38;5;33mBatchNormalization\u001b[0m)            │ (\u001b[38;5;45mNone\u001b[0m, \u001b[38;5;34m30\u001b[0m, \u001b[38;5;34m1\u001b[0m)               │               \u001b[38;5;34m4\u001b[0m │\n",
       "├──────────────────────────────────────┼─────────────────────────────┼─────────────────┤\n",
       "│ MaxPool_1 (\u001b[38;5;33mMaxPooling1D\u001b[0m)             │ (\u001b[38;5;45mNone\u001b[0m, \u001b[38;5;34m15\u001b[0m, \u001b[38;5;34m1\u001b[0m)               │               \u001b[38;5;34m0\u001b[0m │\n",
       "├──────────────────────────────────────┼─────────────────────────────┼─────────────────┤\n",
       "│ Dropout_1 (\u001b[38;5;33mDropout\u001b[0m)                  │ (\u001b[38;5;45mNone\u001b[0m, \u001b[38;5;34m15\u001b[0m, \u001b[38;5;34m1\u001b[0m)               │               \u001b[38;5;34m0\u001b[0m │\n",
       "├──────────────────────────────────────┼─────────────────────────────┼─────────────────┤\n",
       "│ Conv1D_2 (\u001b[38;5;33mConv1D\u001b[0m)                    │ (\u001b[38;5;45mNone\u001b[0m, \u001b[38;5;34m13\u001b[0m, \u001b[38;5;34m32\u001b[0m)              │             \u001b[38;5;34m128\u001b[0m │\n",
       "├──────────────────────────────────────┼─────────────────────────────┼─────────────────┤\n",
       "│ BN_2 (\u001b[38;5;33mBatchNormalization\u001b[0m)            │ (\u001b[38;5;45mNone\u001b[0m, \u001b[38;5;34m13\u001b[0m, \u001b[38;5;34m32\u001b[0m)              │             \u001b[38;5;34m128\u001b[0m │\n",
       "├──────────────────────────────────────┼─────────────────────────────┼─────────────────┤\n",
       "│ Flatten_Features (\u001b[38;5;33mFlatten\u001b[0m)           │ (\u001b[38;5;45mNone\u001b[0m, \u001b[38;5;34m416\u001b[0m)                 │               \u001b[38;5;34m0\u001b[0m │\n",
       "├──────────────────────────────────────┼─────────────────────────────┼─────────────────┤\n",
       "│ Dense_Classifier (\u001b[38;5;33mDense\u001b[0m)             │ (\u001b[38;5;45mNone\u001b[0m, \u001b[38;5;34m32\u001b[0m)                  │          \u001b[38;5;34m13,344\u001b[0m │\n",
       "├──────────────────────────────────────┼─────────────────────────────┼─────────────────┤\n",
       "│ Dropout_2 (\u001b[38;5;33mDropout\u001b[0m)                  │ (\u001b[38;5;45mNone\u001b[0m, \u001b[38;5;34m32\u001b[0m)                  │               \u001b[38;5;34m0\u001b[0m │\n",
       "├──────────────────────────────────────┼─────────────────────────────┼─────────────────┤\n",
       "│ Output_Layer (\u001b[38;5;33mDense\u001b[0m)                 │ (\u001b[38;5;45mNone\u001b[0m, \u001b[38;5;34m1\u001b[0m)                   │              \u001b[38;5;34m33\u001b[0m │\n",
       "└──────────────────────────────────────┴─────────────────────────────┴─────────────────┘\n"
      ]
     },
     "metadata": {},
     "output_type": "display_data"
    },
    {
     "data": {
      "text/html": [
       "<pre style=\"white-space:pre;overflow-x:auto;line-height:normal;font-family:Menlo,'DejaVu Sans Mono',consolas,'Courier New',monospace\"><span style=\"font-weight: bold\"> Total params: </span><span style=\"color: #00af00; text-decoration-color: #00af00\">13,637</span> (53.27 KB)\n",
       "</pre>\n"
      ],
      "text/plain": [
       "\u001b[1m Total params: \u001b[0m\u001b[38;5;34m13,637\u001b[0m (53.27 KB)\n"
      ]
     },
     "metadata": {},
     "output_type": "display_data"
    },
    {
     "data": {
      "text/html": [
       "<pre style=\"white-space:pre;overflow-x:auto;line-height:normal;font-family:Menlo,'DejaVu Sans Mono',consolas,'Courier New',monospace\"><span style=\"font-weight: bold\"> Trainable params: </span><span style=\"color: #00af00; text-decoration-color: #00af00\">13,571</span> (53.01 KB)\n",
       "</pre>\n"
      ],
      "text/plain": [
       "\u001b[1m Trainable params: \u001b[0m\u001b[38;5;34m13,571\u001b[0m (53.01 KB)\n"
      ]
     },
     "metadata": {},
     "output_type": "display_data"
    },
    {
     "data": {
      "text/html": [
       "<pre style=\"white-space:pre;overflow-x:auto;line-height:normal;font-family:Menlo,'DejaVu Sans Mono',consolas,'Courier New',monospace\"><span style=\"font-weight: bold\"> Non-trainable params: </span><span style=\"color: #00af00; text-decoration-color: #00af00\">66</span> (264.00 B)\n",
       "</pre>\n"
      ],
      "text/plain": [
       "\u001b[1m Non-trainable params: \u001b[0m\u001b[38;5;34m66\u001b[0m (264.00 B)\n"
      ]
     },
     "metadata": {},
     "output_type": "display_data"
    }
   ],
   "source": [
    "# --- 6. MODEL ARCHITECTURE DEFINITION (1D-CNN CORE CONTRIBUTION) ---\n",
    "\n",
    "def create_1d_cnn(input_shape):\n",
    "    # Sequential API requires layers as a list or use .add() method\n",
    "    model = Sequential([\n",
    "        # First layer needs input_shape parameter\n",
    "        BatchNormalization(input_shape=input_shape, name='BN_1'),\n",
    "        MaxPooling1D(pool_size=2, name='MaxPool_1'), # Reduces feature dimensionality [6]\n",
    "        Dropout(0.3, name='Dropout_1'),\n",
    "        \n",
    "        Conv1D(filters=32, kernel_size=3, activation='relu', name='Conv1D_2'),\n",
    "        BatchNormalization(name='BN_2'),\n",
    "        \n",
    "        # 2. Flatten Layer: Converts 3D output to 1D vector for Dense layer\n",
    "        Flatten(name='Flatten_Features'), \n",
    "        \n",
    "        # 3. Dense Classification Head\n",
    "        Dense(32, activation='relu', name='Dense_Classifier'),\n",
    "        Dropout(0.3, name='Dropout_2'),\n",
    "        Dense(1, activation='sigmoid', name='Output_Layer') \n",
    "    ], name=\"1D_CNN_M3\")\n",
    "    return model\n",
    "\n",
    "model_m3 = create_1d_cnn(input_shape_cnn)\n",
    "print(\"\\nModel Architecture (1D-CNN - Local Feature Extractor):\")\n",
    "model_m3.summary()"
   ]
  },
  {
   "cell_type": "code",
   "execution_count": 11,
   "id": "efd0831f-b4f9-4ce6-9fc3-3673275b8aa3",
   "metadata": {},
   "outputs": [
    {
     "name": "stdout",
     "output_type": "stream",
     "text": [
      "\n",
      "Starting Model Training...\n",
      "Epoch 1/300\n",
      "13/13 - 8s - 623ms/step - accuracy: 0.7834 - auc: 0.8519 - loss: 0.4561 - val_accuracy: 0.9070 - val_auc: 0.9806 - val_loss: 0.5086\n",
      "Epoch 2/300\n",
      "13/13 - 1s - 102ms/step - accuracy: 0.9118 - auc: 0.9688 - loss: 0.2171 - val_accuracy: 0.9186 - val_auc: 0.9878 - val_loss: 0.4192\n",
      "Epoch 3/300\n",
      "13/13 - 1s - 47ms/step - accuracy: 0.9043 - auc: 0.9622 - loss: 0.2369 - val_accuracy: 0.9302 - val_auc: 0.9925 - val_loss: 0.3789\n",
      "Epoch 4/300\n",
      "13/13 - 0s - 34ms/step - accuracy: 0.9194 - auc: 0.9712 - loss: 0.2056 - val_accuracy: 0.9419 - val_auc: 0.9945 - val_loss: 0.3544\n",
      "Epoch 5/300\n",
      "13/13 - 0s - 33ms/step - accuracy: 0.9194 - auc: 0.9776 - loss: 0.1842 - val_accuracy: 0.9535 - val_auc: 0.9925 - val_loss: 0.3323\n",
      "Epoch 6/300\n",
      "13/13 - 0s - 35ms/step - accuracy: 0.9118 - auc: 0.9675 - loss: 0.2183 - val_accuracy: 0.9535 - val_auc: 0.9933 - val_loss: 0.3157\n",
      "Epoch 7/300\n",
      "13/13 - 0s - 34ms/step - accuracy: 0.9270 - auc: 0.9690 - loss: 0.2089 - val_accuracy: 0.9535 - val_auc: 0.9916 - val_loss: 0.3064\n",
      "Epoch 8/300\n",
      "13/13 - 0s - 34ms/step - accuracy: 0.9370 - auc: 0.9762 - loss: 0.1817 - val_accuracy: 0.9535 - val_auc: 0.9933 - val_loss: 0.2888\n",
      "Epoch 9/300\n",
      "13/13 - 0s - 34ms/step - accuracy: 0.9345 - auc: 0.9812 - loss: 0.1648 - val_accuracy: 0.9651 - val_auc: 0.9948 - val_loss: 0.2637\n",
      "Epoch 10/300\n",
      "13/13 - 1s - 41ms/step - accuracy: 0.9446 - auc: 0.9856 - loss: 0.1525 - val_accuracy: 0.9535 - val_auc: 0.9942 - val_loss: 0.2470\n",
      "Epoch 11/300\n",
      "13/13 - 1s - 47ms/step - accuracy: 0.9395 - auc: 0.9866 - loss: 0.1492 - val_accuracy: 0.9535 - val_auc: 0.9948 - val_loss: 0.2236\n",
      "Epoch 12/300\n",
      "13/13 - 0s - 33ms/step - accuracy: 0.9244 - auc: 0.9790 - loss: 0.1746 - val_accuracy: 0.9767 - val_auc: 0.9951 - val_loss: 0.2071\n",
      "Epoch 13/300\n",
      "13/13 - 1s - 51ms/step - accuracy: 0.9320 - auc: 0.9779 - loss: 0.1716 - val_accuracy: 0.9535 - val_auc: 0.9948 - val_loss: 0.1999\n",
      "Epoch 14/300\n",
      "13/13 - 1s - 50ms/step - accuracy: 0.9270 - auc: 0.9810 - loss: 0.1655 - val_accuracy: 0.9535 - val_auc: 0.9962 - val_loss: 0.1878\n",
      "Epoch 15/300\n",
      "13/13 - 0s - 36ms/step - accuracy: 0.9395 - auc: 0.9816 - loss: 0.1634 - val_accuracy: 0.9535 - val_auc: 0.9965 - val_loss: 0.1782\n",
      "Epoch 16/300\n",
      "13/13 - 0s - 34ms/step - accuracy: 0.9370 - auc: 0.9776 - loss: 0.1711 - val_accuracy: 0.9651 - val_auc: 0.9959 - val_loss: 0.1685\n",
      "Epoch 17/300\n",
      "13/13 - 0s - 34ms/step - accuracy: 0.9370 - auc: 0.9798 - loss: 0.1685 - val_accuracy: 0.9419 - val_auc: 0.9957 - val_loss: 0.1642\n",
      "Epoch 18/300\n",
      "13/13 - 1s - 45ms/step - accuracy: 0.9395 - auc: 0.9794 - loss: 0.1582 - val_accuracy: 0.9419 - val_auc: 0.9954 - val_loss: 0.1557\n",
      "Epoch 19/300\n",
      "13/13 - 1s - 42ms/step - accuracy: 0.9496 - auc: 0.9834 - loss: 0.1453 - val_accuracy: 0.9419 - val_auc: 0.9954 - val_loss: 0.1457\n",
      "Epoch 20/300\n",
      "13/13 - 1s - 44ms/step - accuracy: 0.9446 - auc: 0.9843 - loss: 0.1515 - val_accuracy: 0.9535 - val_auc: 0.9959 - val_loss: 0.1409\n",
      "Epoch 21/300\n",
      "13/13 - 0s - 35ms/step - accuracy: 0.9421 - auc: 0.9817 - loss: 0.1647 - val_accuracy: 0.9535 - val_auc: 0.9965 - val_loss: 0.1384\n",
      "Epoch 22/300\n",
      "13/13 - 0s - 36ms/step - accuracy: 0.9521 - auc: 0.9869 - loss: 0.1369 - val_accuracy: 0.9535 - val_auc: 0.9971 - val_loss: 0.1381\n",
      "Epoch 23/300\n",
      "13/13 - 1s - 54ms/step - accuracy: 0.9446 - auc: 0.9820 - loss: 0.1557 - val_accuracy: 0.9651 - val_auc: 0.9959 - val_loss: 0.1395\n",
      "Epoch 24/300\n",
      "13/13 - 0s - 34ms/step - accuracy: 0.9370 - auc: 0.9873 - loss: 0.1378 - val_accuracy: 0.9535 - val_auc: 0.9959 - val_loss: 0.1307\n",
      "Epoch 25/300\n",
      "13/13 - 1s - 54ms/step - accuracy: 0.9471 - auc: 0.9839 - loss: 0.1455 - val_accuracy: 0.9651 - val_auc: 0.9959 - val_loss: 0.1273\n",
      "Epoch 26/300\n",
      "13/13 - 1s - 41ms/step - accuracy: 0.9370 - auc: 0.9798 - loss: 0.1689 - val_accuracy: 0.9651 - val_auc: 0.9965 - val_loss: 0.1193\n",
      "Epoch 27/300\n",
      "13/13 - 0s - 35ms/step - accuracy: 0.9622 - auc: 0.9905 - loss: 0.1157 - val_accuracy: 0.9651 - val_auc: 0.9977 - val_loss: 0.1035\n",
      "Epoch 28/300\n",
      "13/13 - 1s - 50ms/step - accuracy: 0.9471 - auc: 0.9850 - loss: 0.1458 - val_accuracy: 0.9535 - val_auc: 0.9977 - val_loss: 0.1002\n",
      "Epoch 29/300\n",
      "13/13 - 1s - 50ms/step - accuracy: 0.9572 - auc: 0.9881 - loss: 0.1267 - val_accuracy: 0.9651 - val_auc: 0.9977 - val_loss: 0.1058\n",
      "Epoch 30/300\n",
      "13/13 - 1s - 47ms/step - accuracy: 0.9395 - auc: 0.9824 - loss: 0.1574 - val_accuracy: 0.9651 - val_auc: 0.9974 - val_loss: 0.1019\n",
      "Epoch 31/300\n",
      "13/13 - 1s - 54ms/step - accuracy: 0.9547 - auc: 0.9875 - loss: 0.1331 - val_accuracy: 0.9535 - val_auc: 0.9971 - val_loss: 0.1038\n",
      "Epoch 32/300\n",
      "13/13 - 1s - 49ms/step - accuracy: 0.9521 - auc: 0.9888 - loss: 0.1239 - val_accuracy: 0.9535 - val_auc: 0.9965 - val_loss: 0.1150\n",
      "Epoch 33/300\n",
      "13/13 - 1s - 55ms/step - accuracy: 0.9421 - auc: 0.9792 - loss: 0.1650 - val_accuracy: 0.9651 - val_auc: 0.9974 - val_loss: 0.1027\n",
      "Epoch 34/300\n",
      "13/13 - 1s - 48ms/step - accuracy: 0.9547 - auc: 0.9810 - loss: 0.1487 - val_accuracy: 0.9651 - val_auc: 0.9977 - val_loss: 0.0910\n",
      "Epoch 35/300\n",
      "13/13 - 1s - 48ms/step - accuracy: 0.9345 - auc: 0.9753 - loss: 0.1832 - val_accuracy: 0.9651 - val_auc: 0.9977 - val_loss: 0.1020\n",
      "Epoch 36/300\n",
      "13/13 - 1s - 54ms/step - accuracy: 0.9572 - auc: 0.9855 - loss: 0.1335 - val_accuracy: 0.9651 - val_auc: 0.9965 - val_loss: 0.1024\n",
      "Epoch 37/300\n",
      "13/13 - 1s - 51ms/step - accuracy: 0.9320 - auc: 0.9858 - loss: 0.1457 - val_accuracy: 0.9651 - val_auc: 0.9971 - val_loss: 0.0977\n",
      "Epoch 38/300\n",
      "13/13 - 1s - 47ms/step - accuracy: 0.9622 - auc: 0.9888 - loss: 0.1109 - val_accuracy: 0.9651 - val_auc: 0.9965 - val_loss: 0.1002\n",
      "Epoch 39/300\n",
      "13/13 - 0s - 36ms/step - accuracy: 0.9597 - auc: 0.9910 - loss: 0.1217 - val_accuracy: 0.9651 - val_auc: 0.9971 - val_loss: 0.0912\n",
      "Epoch 40/300\n",
      "13/13 - 1s - 54ms/step - accuracy: 0.9370 - auc: 0.9895 - loss: 0.1267 - val_accuracy: 0.9651 - val_auc: 0.9971 - val_loss: 0.0882\n",
      "Epoch 41/300\n",
      "13/13 - 1s - 52ms/step - accuracy: 0.9471 - auc: 0.9857 - loss: 0.1383 - val_accuracy: 0.9651 - val_auc: 0.9971 - val_loss: 0.0875\n",
      "Epoch 42/300\n",
      "13/13 - 1s - 40ms/step - accuracy: 0.9471 - auc: 0.9895 - loss: 0.1254 - val_accuracy: 0.9651 - val_auc: 0.9977 - val_loss: 0.0810\n",
      "Epoch 43/300\n",
      "13/13 - 1s - 55ms/step - accuracy: 0.9572 - auc: 0.9938 - loss: 0.1036 - val_accuracy: 0.9535 - val_auc: 0.9977 - val_loss: 0.0866\n",
      "Epoch 44/300\n",
      "13/13 - 0s - 36ms/step - accuracy: 0.9471 - auc: 0.9868 - loss: 0.1340 - val_accuracy: 0.9419 - val_auc: 0.9971 - val_loss: 0.0951\n",
      "Epoch 45/300\n",
      "13/13 - 0s - 37ms/step - accuracy: 0.9521 - auc: 0.9930 - loss: 0.1049 - val_accuracy: 0.9651 - val_auc: 0.9965 - val_loss: 0.0906\n",
      "Epoch 46/300\n",
      "13/13 - 1s - 56ms/step - accuracy: 0.9547 - auc: 0.9937 - loss: 0.1031 - val_accuracy: 0.9651 - val_auc: 0.9977 - val_loss: 0.0803\n",
      "Epoch 47/300\n",
      "13/13 - 1s - 47ms/step - accuracy: 0.9521 - auc: 0.9858 - loss: 0.1430 - val_accuracy: 0.9651 - val_auc: 0.9977 - val_loss: 0.0784\n",
      "Epoch 48/300\n",
      "13/13 - 1s - 49ms/step - accuracy: 0.9547 - auc: 0.9866 - loss: 0.1341 - val_accuracy: 0.9651 - val_auc: 0.9977 - val_loss: 0.0805\n",
      "Epoch 49/300\n",
      "13/13 - 1s - 54ms/step - accuracy: 0.9572 - auc: 0.9944 - loss: 0.0961 - val_accuracy: 0.9651 - val_auc: 0.9977 - val_loss: 0.0759\n",
      "Epoch 50/300\n",
      "13/13 - 1s - 43ms/step - accuracy: 0.9345 - auc: 0.9885 - loss: 0.1352 - val_accuracy: 0.9651 - val_auc: 0.9971 - val_loss: 0.0811\n",
      "Epoch 51/300\n",
      "13/13 - 1s - 56ms/step - accuracy: 0.9471 - auc: 0.9852 - loss: 0.1373 - val_accuracy: 0.9651 - val_auc: 0.9977 - val_loss: 0.0861\n",
      "Epoch 52/300\n",
      "13/13 - 1s - 50ms/step - accuracy: 0.9521 - auc: 0.9890 - loss: 0.1274 - val_accuracy: 0.9651 - val_auc: 0.9977 - val_loss: 0.0950\n",
      "Epoch 53/300\n",
      "13/13 - 1s - 52ms/step - accuracy: 0.9496 - auc: 0.9867 - loss: 0.1352 - val_accuracy: 0.9651 - val_auc: 0.9971 - val_loss: 0.0918\n",
      "Epoch 54/300\n",
      "13/13 - 0s - 36ms/step - accuracy: 0.9521 - auc: 0.9910 - loss: 0.1165 - val_accuracy: 0.9651 - val_auc: 0.9971 - val_loss: 0.0872\n",
      "Epoch 55/300\n",
      "13/13 - 1s - 55ms/step - accuracy: 0.9496 - auc: 0.9899 - loss: 0.1192 - val_accuracy: 0.9535 - val_auc: 0.9977 - val_loss: 0.0820\n",
      "Epoch 56/300\n",
      "13/13 - 1s - 49ms/step - accuracy: 0.9597 - auc: 0.9923 - loss: 0.1095 - val_accuracy: 0.9535 - val_auc: 0.9977 - val_loss: 0.0858\n",
      "Epoch 57/300\n",
      "13/13 - 1s - 49ms/step - accuracy: 0.9395 - auc: 0.9874 - loss: 0.1378 - val_accuracy: 0.9651 - val_auc: 0.9971 - val_loss: 0.0896\n",
      "Epoch 58/300\n",
      "13/13 - 1s - 49ms/step - accuracy: 0.9471 - auc: 0.9897 - loss: 0.1238 - val_accuracy: 0.9651 - val_auc: 0.9971 - val_loss: 0.0893\n",
      "Epoch 59/300\n",
      "13/13 - 1s - 49ms/step - accuracy: 0.9496 - auc: 0.9895 - loss: 0.1191 - val_accuracy: 0.9651 - val_auc: 0.9965 - val_loss: 0.0851\n",
      "Epoch 60/300\n",
      "13/13 - 1s - 46ms/step - accuracy: 0.9471 - auc: 0.9791 - loss: 0.1581 - val_accuracy: 0.9651 - val_auc: 0.9971 - val_loss: 0.0851\n",
      "Epoch 61/300\n",
      "13/13 - 1s - 56ms/step - accuracy: 0.9496 - auc: 0.9824 - loss: 0.1565 - val_accuracy: 0.9535 - val_auc: 0.9971 - val_loss: 0.0906\n",
      "Epoch 62/300\n",
      "13/13 - 1s - 48ms/step - accuracy: 0.9496 - auc: 0.9899 - loss: 0.1223 - val_accuracy: 0.9535 - val_auc: 0.9977 - val_loss: 0.0912\n",
      "Epoch 63/300\n",
      "13/13 - 1s - 52ms/step - accuracy: 0.9471 - auc: 0.9901 - loss: 0.1217 - val_accuracy: 0.9651 - val_auc: 0.9971 - val_loss: 0.0892\n",
      "Epoch 64/300\n",
      "13/13 - 1s - 50ms/step - accuracy: 0.9421 - auc: 0.9849 - loss: 0.1447 - val_accuracy: 0.9535 - val_auc: 0.9965 - val_loss: 0.0996\n",
      "Epoch 65/300\n",
      "13/13 - 1s - 45ms/step - accuracy: 0.9547 - auc: 0.9914 - loss: 0.1076 - val_accuracy: 0.9535 - val_auc: 0.9965 - val_loss: 0.0966\n",
      "Epoch 66/300\n",
      "13/13 - 0s - 32ms/step - accuracy: 0.9647 - auc: 0.9920 - loss: 0.1037 - val_accuracy: 0.9651 - val_auc: 0.9965 - val_loss: 0.0911\n",
      "Epoch 67/300\n",
      "13/13 - 1s - 61ms/step - accuracy: 0.9622 - auc: 0.9896 - loss: 0.1120 - val_accuracy: 0.9651 - val_auc: 0.9965 - val_loss: 0.0908\n",
      "Epoch 68/300\n",
      "13/13 - 1s - 45ms/step - accuracy: 0.9597 - auc: 0.9851 - loss: 0.1337 - val_accuracy: 0.9651 - val_auc: 0.9968 - val_loss: 0.0859\n",
      "Epoch 69/300\n",
      "13/13 - 1s - 57ms/step - accuracy: 0.9547 - auc: 0.9915 - loss: 0.1100 - val_accuracy: 0.9651 - val_auc: 0.9954 - val_loss: 0.0875\n",
      "Epoch 70/300\n",
      "13/13 - 1s - 47ms/step - accuracy: 0.9622 - auc: 0.9919 - loss: 0.1135 - val_accuracy: 0.9651 - val_auc: 0.9962 - val_loss: 0.0870\n",
      "Epoch 71/300\n",
      "13/13 - 1s - 51ms/step - accuracy: 0.9622 - auc: 0.9881 - loss: 0.1232 - val_accuracy: 0.9651 - val_auc: 0.9977 - val_loss: 0.0817\n",
      "Epoch 72/300\n",
      "13/13 - 1s - 43ms/step - accuracy: 0.9698 - auc: 0.9907 - loss: 0.1154 - val_accuracy: 0.9651 - val_auc: 0.9977 - val_loss: 0.0855\n",
      "Epoch 73/300\n",
      "13/13 - 1s - 48ms/step - accuracy: 0.9547 - auc: 0.9880 - loss: 0.1304 - val_accuracy: 0.9651 - val_auc: 0.9971 - val_loss: 0.0867\n",
      "Epoch 74/300\n",
      "13/13 - 1s - 53ms/step - accuracy: 0.9622 - auc: 0.9864 - loss: 0.1215 - val_accuracy: 0.9651 - val_auc: 0.9968 - val_loss: 0.0859\n",
      "Model training finished.\n"
     ]
    }
   ],
   "source": [
    "# --- 7. MODEL COMPILATION AND TRAINING ---\n",
    "\n",
    "model_m3.compile(\n",
    "    optimizer=tf.keras.optimizers.Adam(learning_rate=0.001),\n",
    "    loss='binary_crossentropy', \n",
    "    metrics=['accuracy', keras.metrics.AUC(name='auc')] # AUC is vital for comparison\n",
    ")\n",
    "\n",
    "early_stopping = EarlyStopping(\n",
    "    monitor='val_loss',\n",
    "    patience=25,          # Slightly higher patience for Conv1D stability\n",
    "    restore_best_weights=True # [7]\n",
    ")\n",
    "\n",
    "print(\"\\nStarting Model Training...\")\n",
    "history_m3 = model_m3.fit(\n",
    "    X_train_cnn, Y_train,\n",
    "    epochs=300,             \n",
    "    batch_size=32,\n",
    "    validation_data=(X_val_cnn, Y_val),\n",
    "    callbacks=[early_stopping],\n",
    "    verbose=2\n",
    ")\n",
    "print(\"Model training finished.\")\n"
   ]
  },
  {
   "cell_type": "code",
   "execution_count": 12,
   "id": "6e929dbb-22f4-48fe-ba83-271962d8c3ad",
   "metadata": {},
   "outputs": [
    {
     "name": "stdout",
     "output_type": "stream",
     "text": [
      "\n",
      "Evaluating Model on the held-out Test Set (15%):\n",
      "\n",
      "--- Member 3 (1D-CNN) Final Test Results ---\n",
      "Test Loss: 0.0894\n",
      "Test Accuracy: 0.9535\n",
      "Test AUC-ROC: 0.9971\n",
      "\u001b[1m3/3\u001b[0m \u001b[32m━━━━━━━━━━━━━━━━━━━━\u001b[0m\u001b[37m\u001b[0m \u001b[1m1s\u001b[0m 155ms/step\n",
      "\n",
      "Classification Report (Key Metrics for Comparison):\n",
      "              precision    recall  f1-score   support\n",
      "\n",
      "           B       0.95      0.98      0.96        54\n",
      "           M       0.97      0.91      0.94        32\n",
      "\n",
      "    accuracy                           0.95        86\n",
      "   macro avg       0.96      0.94      0.95        86\n",
      "weighted avg       0.95      0.95      0.95        86\n",
      "\n"
     ]
    }
   ],
   "source": [
    "# --- 8. MODEL EVALUATION (5% Grading Weight) ---\n",
    "\n",
    "print(\"\\nEvaluating Model on the held-out Test Set (15%):\")\n",
    "loss_m3, accuracy_m3, auc_m3 = model_m3.evaluate(X_test_cnn, Y_test, verbose=0) \n",
    "\n",
    "print(f\"\\n--- Member 3 (1D-CNN) Final Test Results ---\")\n",
    "print(f\"Test Loss: {loss_m3:.4f}\")\n",
    "print(f\"Test Accuracy: {accuracy_m3:.4f}\")\n",
    "print(f\"Test AUC-ROC: {auc_m3:.4f}\")\n",
    "\n",
    "# Generate detailed classification report\n",
    "Y_pred_prob = model_m3.predict(X_test_cnn)\n",
    "Y_pred_class = (Y_pred_prob > 0.5).astype(\"int32\")\n",
    "\n",
    "report = classification_report(Y_test, Y_pred_class, target_names=encoder.classes_)\n",
    "print(\"\\nClassification Report (Key Metrics for Comparison):\")\n",
    "print(report)"
   ]
  },
  {
   "cell_type": "code",
   "execution_count": null,
   "id": "fec586fd-5491-463f-b05a-f5c8f5e13707",
   "metadata": {},
   "outputs": [],
   "source": []
  },
  {
   "cell_type": "code",
   "execution_count": null,
   "id": "a0b3e838-120f-4b2e-8c33-a36fe065058a",
   "metadata": {},
   "outputs": [],
   "source": []
  },
  {
   "cell_type": "code",
   "execution_count": null,
   "id": "8deb16de-3476-4b05-b92a-55f2029e3b53",
   "metadata": {},
   "outputs": [],
   "source": []
  }
 ],
 "metadata": {
  "kernelspec": {
   "display_name": "Python [conda env:base] *",
   "language": "python",
   "name": "conda-base-py"
  },
  "language_info": {
   "codemirror_mode": {
    "name": "ipython",
    "version": 3
   },
   "file_extension": ".py",
   "mimetype": "text/x-python",
   "name": "python",
   "nbconvert_exporter": "python",
   "pygments_lexer": "ipython3",
   "version": "3.13.5"
  }
 },
 "nbformat": 4,
 "nbformat_minor": 5
}
